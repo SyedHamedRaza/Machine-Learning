{
 "cells": [
  {
   "cell_type": "markdown",
   "metadata": {},
   "source": [
    "# Python break and continue Statements"
   ]
  },
  {
   "cell_type": "code",
   "execution_count": 1,
   "metadata": {},
   "outputs": [
    {
     "name": "stdout",
     "output_type": "stream",
     "text": [
      "1\n",
      "2\n",
      "3\n",
      "Outside of for loop\n"
     ]
    }
   ],
   "source": [
    "numbers = [1, 2, 3, 4]\n",
    "for num in numbers:          #iterating over list\n",
    "    if num == 4:\n",
    "        break\n",
    "    print(num)\n",
    "else:\n",
    "    print(\"in the else-block\")\n",
    "print(\"Outside of for loop\")"
   ]
  },
  {
   "cell_type": "markdown",
   "metadata": {},
   "source": [
    "### Python Program to check given number is Prime number or not (using break)"
   ]
  },
  {
   "cell_type": "code",
   "execution_count": 2,
   "metadata": {},
   "outputs": [
    {
     "name": "stdout",
     "output_type": "stream",
     "text": [
      "Enter a number: 77\n",
      "77 is divisible by 7\n",
      "77 is NOT a Prime number\n"
     ]
    }
   ],
   "source": [
    "num = int(input(\"Enter a number: \"))        #convert string to int\n",
    "\n",
    "\n",
    "isDivisible = False;\n",
    "\n",
    "i=2;\n",
    "while i < num:\n",
    "    if num % i == 0:\n",
    "        isDivisible = True;\n",
    "        print (\"{} is divisible by {}\".format(num,i) )\n",
    "        break; # this line is the only addition.\n",
    "    i += 1;\n",
    "    \n",
    "if isDivisible:\n",
    "    print(\"{} is NOT a Prime number\".format(num))\n",
    "else:\n",
    "    print(\"{} is a Prime number\".format(num))"
   ]
  },
  {
   "cell_type": "code",
   "execution_count": 3,
   "metadata": {},
   "outputs": [
    {
     "name": "stdout",
     "output_type": "stream",
     "text": [
      "1\n",
      "3\n",
      "5\n",
      "else-block\n"
     ]
    }
   ],
   "source": [
    "#print odd numbers present in a list\n",
    "numbers = [1, 2, 3, 4, 5]\n",
    "\n",
    "for num in numbers:\n",
    "    if num % 2 == 0:\n",
    "        continue\n",
    "    print(num)\n",
    "else:\n",
    "    print(\"else-block\")"
   ]
  },
  {
   "cell_type": "code",
   "execution_count": null,
   "metadata": {},
   "outputs": [],
   "source": []
  }
 ],
 "metadata": {
  "kernelspec": {
   "display_name": "Python 3",
   "language": "python",
   "name": "python3"
  },
  "language_info": {
   "codemirror_mode": {
    "name": "ipython",
    "version": 3
   },
   "file_extension": ".py",
   "mimetype": "text/x-python",
   "name": "python",
   "nbconvert_exporter": "python",
   "pygments_lexer": "ipython3",
   "version": "3.6.8"
  }
 },
 "nbformat": 4,
 "nbformat_minor": 2
}
