{
 "cells": [
  {
   "cell_type": "markdown",
   "metadata": {},
   "source": [
    "# 01- Numpy"
   ]
  },
  {
   "cell_type": "markdown",
   "metadata": {},
   "source": [
    "## Memory-efficient container that provides fast numerical operations"
   ]
  },
  {
   "cell_type": "code",
   "execution_count": 9,
   "metadata": {},
   "outputs": [
    {
     "name": "stdout",
     "output_type": "stream",
     "text": [
      "[0 1 2 3]\n"
     ]
    }
   ],
   "source": [
    "import numpy as np\n",
    "a = np.array([0, 1, 2, 3])\n",
    "print(a)"
   ]
  },
  {
   "cell_type": "markdown",
   "metadata": {},
   "source": [
    "## Python Lists VS Numpy Arrays"
   ]
  },
  {
   "cell_type": "code",
   "execution_count": 2,
   "metadata": {},
   "outputs": [
    {
     "name": "stdout",
     "output_type": "stream",
     "text": [
      "358 µs ± 23.5 µs per loop (mean ± std. dev. of 7 runs, 1000 loops each)\n"
     ]
    }
   ],
   "source": [
    "#python lists\n",
    "L = range(1000)\n",
    "%timeit [i**2 for i in L]"
   ]
  },
  {
   "cell_type": "code",
   "execution_count": 3,
   "metadata": {},
   "outputs": [
    {
     "name": "stdout",
     "output_type": "stream",
     "text": [
      "1.71 µs ± 66.9 ns per loop (mean ± std. dev. of 7 runs, 1000000 loops each)\n"
     ]
    }
   ],
   "source": [
    "a = np.arange(1000)\n",
    "%timeit a**2"
   ]
  },
  {
   "cell_type": "markdown",
   "metadata": {},
   "source": [
    "## Creating arrays [1-D Array, 2-D Array, 3-D Array]"
   ]
  },
  {
   "cell_type": "code",
   "execution_count": 5,
   "metadata": {},
   "outputs": [
    {
     "name": "stdout",
     "output_type": "stream",
     "text": [
      "Dimension: 1\n",
      "Shape : (4,)\n",
      "Length: 4\n"
     ]
    }
   ],
   "source": [
    "#1-D Array\n",
    "a = np.array([0, 1, 2, 3])\n",
    "print(\"Dimension: {}\".format(a.ndim))\n",
    "print(\"Shape : {}\".format(a.shape))\n",
    "print(\"Length: {}\".format(len(a)))"
   ]
  },
  {
   "cell_type": "code",
   "execution_count": 7,
   "metadata": {},
   "outputs": [
    {
     "name": "stdout",
     "output_type": "stream",
     "text": [
      "Dimension: 2\n",
      "Shape : (2, 3)\n",
      "Length: 2\n"
     ]
    }
   ],
   "source": [
    "#2-D Array\n",
    "b = np.array([[0, 1, 2], [3, 4, 5]])\n",
    "print(\"Dimension: {}\".format(b.ndim))\n",
    "print(\"Shape : {}\".format(b.shape))\n",
    "print(\"Length: {}\".format(len(b)))"
   ]
  },
  {
   "cell_type": "code",
   "execution_count": 8,
   "metadata": {},
   "outputs": [
    {
     "name": "stdout",
     "output_type": "stream",
     "text": [
      "Dimension: 3\n",
      "Shape : (2, 2, 2)\n",
      "Length: 2\n"
     ]
    }
   ],
   "source": [
    "#3-D Array\n",
    "c = np.array([[[0, 1], [2, 3]], [[4, 5], [6, 7]]])\n",
    "print(\"Dimension: {}\".format(c.ndim))\n",
    "print(\"Shape : {}\".format(c.shape))\n",
    "print(\"Length: {}\".format(len(c)))"
   ]
  },
  {
   "cell_type": "markdown",
   "metadata": {},
   "source": [
    "## Array Functions"
   ]
  },
  {
   "cell_type": "code",
   "execution_count": 14,
   "metadata": {},
   "outputs": [
    {
     "name": "stdout",
     "output_type": "stream",
     "text": [
      "[0 1 2 3 4 5 6 7 8 9]\n",
      "********************\n",
      "[1 3 5 7 9]\n",
      "********************\n",
      "[0.  0.2 0.4 0.6 0.8 1. ]\n",
      "********************\n",
      "[[1. 1. 1.]\n",
      " [1. 1. 1.]\n",
      " [1. 1. 1.]]\n",
      "********************\n",
      "[[0. 0. 0.]\n",
      " [0. 0. 0.]\n",
      " [0. 0. 0.]]\n",
      "********************\n",
      "[[1. 0. 0.]\n",
      " [0. 1. 0.]\n",
      " [0. 0. 1.]]\n",
      "********************\n",
      "[[1. 0.]\n",
      " [0. 1.]\n",
      " [0. 0.]]\n",
      "********************\n",
      "[[1 0 0 0]\n",
      " [0 2 0 0]\n",
      " [0 0 3 0]\n",
      " [0 0 0 4]]\n",
      "********************\n",
      "[[0 0 0 0 0 0 0 0 0 0]\n",
      " [0 1 0 0 0 0 0 0 0 0]\n",
      " [0 0 2 0 0 0 0 0 0 0]\n",
      " [0 0 0 3 0 0 0 0 0 0]\n",
      " [0 0 0 0 4 0 0 0 0 0]\n",
      " [0 0 0 0 0 5 0 0 0 0]\n",
      " [0 0 0 0 0 0 6 0 0 0]\n",
      " [0 0 0 0 0 0 0 7 0 0]\n",
      " [0 0 0 0 0 0 0 0 8 0]\n",
      " [0 0 0 0 0 0 0 0 0 9]]\n",
      "********************\n",
      "[0.20083631 0.04135185 0.46337393 0.09769519]\n",
      "********************\n",
      "[ 0.28988268 -0.6727122   1.23209359 -0.27617553]\n",
      "********************\n"
     ]
    }
   ],
   "source": [
    "'''\n",
    "arange is an array-valued version of the built-in Python range function\n",
    "'''\n",
    "a = np.arange(10) # 0.... n-1\n",
    "b = np.arange(1, 10, 2) #start, end (exclusive), step\n",
    "c = np.linspace(0, 1, 6) #start, end, number of points\n",
    "d = np.ones((3, 3)) #Create a matrix of 3-by-3 of entries 1\n",
    "e = np.zeros((3, 3)) #Create a matrix of 3-by-3 of entries 1\n",
    "f = np.eye(3)  #Return a 2-D array with ones on the diagonal and zeros elsewhere.\n",
    "g = np.eye(3, 2) #3 is number of rows, 2 is number of columns, index of diagonal start with 0\n",
    "h = np.diag([1, 2, 3, 4]) #construct a diagonal array.\n",
    "i = np.diag(a)   #Extract diagonal\n",
    "#Create an array of the given shape and populate it with random samples from a uniform distribution over [0, 1).\n",
    "j = np.random.rand(4) \n",
    "k = np.random.randn(4)#Return a sample (or samples) from the “standard normal” distribution.  ***Gausian***\n",
    "\n",
    "print(a)\n",
    "print('********************')\n",
    "print(b)\n",
    "print('********************')\n",
    "print(c)\n",
    "print('********************')\n",
    "print(d)\n",
    "print('********************')\n",
    "print(e)\n",
    "print('********************')\n",
    "print(f)\n",
    "print('********************')\n",
    "print(g)\n",
    "print('********************')\n",
    "print(h)\n",
    "print('********************')\n",
    "print(i)\n",
    "print('********************')\n",
    "print(j)\n",
    "print('********************')\n",
    "print(k)\n",
    "print('********************')\n"
   ]
  },
  {
   "cell_type": "markdown",
   "metadata": {},
   "source": [
    "## Basic DataTypes"
   ]
  },
  {
   "cell_type": "code",
   "execution_count": 16,
   "metadata": {},
   "outputs": [
    {
     "name": "stdout",
     "output_type": "stream",
     "text": [
      "int32\n",
      "*******************\n",
      "float64\n",
      "*******************\n",
      "float64\n",
      "*******************\n",
      "complex128\n",
      "*******************\n",
      "bool\n",
      "*******************\n",
      "<U6\n",
      "*******************\n"
     ]
    }
   ],
   "source": [
    "a = np.arange(10)\n",
    "b = np.arange(10, dtype='float64') #explicitly specify the data-type\n",
    "c = np.zeros((3, 3)) #The default data type is float for zeros and ones function\n",
    "d = np.array([1+2j, 2+4j])   #Complex datatype\n",
    "e = np.array([True, False, True, False])  #Boolean datatype\n",
    "f = np.array(['Ram', 'Robert', 'Rahim'])\n",
    "print(a.dtype)\n",
    "print('*******************')\n",
    "print(b.dtype)\n",
    "print('*******************')\n",
    "print(c.dtype)\n",
    "print('*******************')\n",
    "print(d.dtype)\n",
    "print('*******************')\n",
    "print(e.dtype)\n",
    "print('*******************')\n",
    "print(f.dtype)\n",
    "print('*******************')"
   ]
  },
  {
   "cell_type": "code",
   "execution_count": null,
   "metadata": {},
   "outputs": [],
   "source": []
  }
 ],
 "metadata": {
  "kernelspec": {
   "display_name": "Python 3",
   "language": "python",
   "name": "python3"
  },
  "language_info": {
   "codemirror_mode": {
    "name": "ipython",
    "version": 3
   },
   "file_extension": ".py",
   "mimetype": "text/x-python",
   "name": "python",
   "nbconvert_exporter": "python",
   "pygments_lexer": "ipython3",
   "version": "3.6.8"
  }
 },
 "nbformat": 4,
 "nbformat_minor": 2
}
