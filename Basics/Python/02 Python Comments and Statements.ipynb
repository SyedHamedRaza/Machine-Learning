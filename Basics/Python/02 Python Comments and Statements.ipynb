{
 "cells": [
  {
   "cell_type": "markdown",
   "metadata": {},
   "source": [
    "# 02 Python Comments"
   ]
  },
  {
   "cell_type": "code",
   "execution_count": 2,
   "metadata": {},
   "outputs": [
    {
     "name": "stdout",
     "output_type": "stream",
     "text": [
      "Hello, World\n",
      "Programming is easy\n"
     ]
    }
   ],
   "source": [
    "print(\"Hello, World\")\n",
    "#single line comment\n",
    "#another single line comment\n",
    "'''\n",
    "Multiline comment\n",
    "we can write many lines\n",
    "line1\n",
    "line2\n",
    ".\n",
    ".\n",
    ".\n",
    "'''\n",
    "\n",
    "\"\"\"\n",
    "Another multiline comment\n",
    "we can write many lines\n",
    "line1\n",
    "line2\n",
    ".\n",
    ".\n",
    ".\n",
    "\"\"\"\n",
    "\n",
    "print(\"Programming is easy\")"
   ]
  },
  {
   "cell_type": "markdown",
   "metadata": {},
   "source": [
    "## DocString in python"
   ]
  },
  {
   "cell_type": "code",
   "execution_count": 11,
   "metadata": {},
   "outputs": [
    {
     "name": "stdout",
     "output_type": "stream",
     "text": [
      "5\n"
     ]
    }
   ],
   "source": [
    "def Add(num1, num2):\n",
    "    '''\n",
    "    function takes two parameters and return their sum\n",
    "    '''\n",
    "    return num1 + num2\n",
    "print(Add(2,3))"
   ]
  },
  {
   "cell_type": "code",
   "execution_count": 12,
   "metadata": {},
   "outputs": [
    {
     "name": "stdout",
     "output_type": "stream",
     "text": [
      "\n",
      "    function takes two parameters and return their sum\n",
      "    \n"
     ]
    }
   ],
   "source": [
    "print(Add.__doc__) #Docstring is available to us as the attribute __doc__ of the function"
   ]
  },
  {
   "cell_type": "markdown",
   "metadata": {},
   "source": [
    "# Python Statement"
   ]
  },
  {
   "cell_type": "code",
   "execution_count": 13,
   "metadata": {},
   "outputs": [
    {
     "name": "stdout",
     "output_type": "stream",
     "text": [
      "1\n",
      "36\n",
      "36\n"
     ]
    }
   ],
   "source": [
    "a = 1  #single statement\n",
    "\n",
    "#Multi-Line Statement\n",
    "b = 1 + 2 + 3 + \\\n",
    "    4 + 5 + 6 + \\\n",
    "    7 + 8\n",
    "\n",
    "#another way is\n",
    "c = (1 + 2 + 3 +\n",
    "    4 + 5 + 6 + \n",
    "    7 + 8)\n",
    "print(a)\n",
    "print(b)\n",
    "print(c)"
   ]
  },
  {
   "cell_type": "code",
   "execution_count": 14,
   "metadata": {},
   "outputs": [],
   "source": [
    "a = 10; b = 20; c = 30   #put multiple statements in a single line using ;"
   ]
  },
  {
   "cell_type": "code",
   "execution_count": null,
   "metadata": {},
   "outputs": [],
   "source": []
  }
 ],
 "metadata": {
  "kernelspec": {
   "display_name": "Python 3",
   "language": "python",
   "name": "python3"
  },
  "language_info": {
   "codemirror_mode": {
    "name": "ipython",
    "version": 3
   },
   "file_extension": ".py",
   "mimetype": "text/x-python",
   "name": "python",
   "nbconvert_exporter": "python",
   "pygments_lexer": "ipython3",
   "version": "3.6.8"
  }
 },
 "nbformat": 4,
 "nbformat_minor": 2
}
