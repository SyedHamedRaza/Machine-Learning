{
 "cells": [
  {
   "cell_type": "code",
   "execution_count": null,
   "metadata": {},
   "outputs": [],
   "source": []
  },
  {
   "cell_type": "code",
   "execution_count": null,
   "metadata": {},
   "outputs": [],
   "source": [
    "# Importing the Keras libraries and packages\n",
    "from keras.models import Sequential\n",
    "from keras.layers import Convolution2D\n",
    "from keras.layers import MaxPooling2D\n",
    "from keras.layers import Flatten\n",
    "from keras.layers import Dense\n"
   ]
  },
  {
   "cell_type": "code",
   "execution_count": null,
   "metadata": {},
   "outputs": [],
   "source": [
    "# Initializing the CNN\n",
    "classifier = Sequential()"
   ]
  },
  {
   "cell_type": "code",
   "execution_count": null,
   "metadata": {},
   "outputs": [],
   "source": [
    "# step - 1 - Convolution\n",
    "classifier.add(Convolution2D(32, 3, 3, input_shape = (64, 64, 3), activation = 'relu'))\n"
   ]
  },
  {
   "cell_type": "code",
   "execution_count": null,
   "metadata": {},
   "outputs": [],
   "source": [
    "\n",
    "# step -2 -- Pooling\n",
    "classifier.add(MaxPooling2D(pool_size=(2, 2)))\n",
    "\n",
    "# Adding a second convolutional layer\n",
    "classifier.add(Convolution2D(32, 3, 3, activation='relu'))\n",
    "classifier.add(MaxPooling2D(pool_size=(2, 2)))\n",
    "\n",
    "# step - 3 -- Flattening\n",
    "classifier.add(Flatten())\n",
    "\n",
    "# Step -4 Full Connection\n",
    "classifier.add(Dense(output_dim=128, activation='relu'))\n",
    "classifier.add(Dense(output_dim=1, activation='sigmoid'))\n",
    "\n",
    "# Compiling the CNN\n",
    "classifier.compile(\n",
    "    optimizer='adam',\n",
    "    loss='binary_crossentropy',\n",
    "    metrics=['accuracy']\n",
    ")\n",
    "\n"
   ]
  },
  {
   "cell_type": "code",
   "execution_count": null,
   "metadata": {},
   "outputs": [
    {
     "name": "stdout",
     "output_type": "stream",
     "text": [
      "Found 8000 images belonging to 2 classes.\n",
      "Found 2000 images belonging to 2 classes.\n"
     ]
    },
    {
     "name": "stderr",
     "output_type": "stream",
     "text": [
      "C:\\Users\\hamed\\AppData\\Local\\conda\\conda\\envs\\tensorflow\\lib\\site-packages\\ipykernel_launcher.py:30: UserWarning: The semantics of the Keras 2 argument `steps_per_epoch` is not the same as the Keras 1 argument `samples_per_epoch`. `steps_per_epoch` is the number of batches to draw from the generator at each epoch. Basically steps_per_epoch = samples_per_epoch/batch_size. Similarly `nb_val_samples`->`validation_steps` and `val_samples`->`steps` arguments have changed. Update your method calls accordingly.\n",
      "C:\\Users\\hamed\\AppData\\Local\\conda\\conda\\envs\\tensorflow\\lib\\site-packages\\ipykernel_launcher.py:30: UserWarning: Update your `fit_generator` call to the Keras 2 API: `fit_generator(<keras_pre..., validation_data=<keras_pre..., steps_per_epoch=250, epochs=25, validation_steps=2000)`\n"
     ]
    },
    {
     "name": "stdout",
     "output_type": "stream",
     "text": [
      "Epoch 1/25\n",
      "250/250 [==============================] - 447s 2s/step - loss: 0.6930 - acc: 0.5344 - val_loss: 0.6688 - val_acc: 0.5937\n",
      "Epoch 2/25\n",
      "250/250 [==============================] - 383s 2s/step - loss: 0.6384 - acc: 0.6356 - val_loss: 0.5966 - val_acc: 0.6815\n",
      "Epoch 3/25\n",
      "250/250 [==============================] - 339s 1s/step - loss: 0.5799 - acc: 0.6995 - val_loss: 0.5500 - val_acc: 0.7354\n",
      "Epoch 4/25\n",
      "250/250 [==============================] - 362s 1s/step - loss: 0.5437 - acc: 0.7246 - val_loss: 0.5515 - val_acc: 0.7266\n",
      "Epoch 5/25\n",
      "250/250 [==============================] - 345s 1s/step - loss: 0.5229 - acc: 0.7408 - val_loss: 0.5069 - val_acc: 0.7485\n",
      "Epoch 6/25\n",
      "250/250 [==============================] - 319s 1s/step - loss: 0.4958 - acc: 0.7618 - val_loss: 0.5115 - val_acc: 0.7557\n",
      "Epoch 7/25\n",
      "250/250 [==============================] - 310s 1s/step - loss: 0.4846 - acc: 0.7689 - val_loss: 0.4974 - val_acc: 0.7648\n",
      "Epoch 8/25\n",
      "250/250 [==============================] - 307s 1s/step - loss: 0.4739 - acc: 0.7748 - val_loss: 0.6099 - val_acc: 0.7066\n",
      "Epoch 9/25\n",
      "250/250 [==============================] - 308s 1s/step - loss: 0.4552 - acc: 0.7844 - val_loss: 0.4632 - val_acc: 0.7828\n",
      "Epoch 10/25\n",
      "250/250 [==============================] - 307s 1s/step - loss: 0.4415 - acc: 0.7914 - val_loss: 0.4670 - val_acc: 0.7817\n",
      "Epoch 11/25\n",
      "250/250 [==============================] - 306s 1s/step - loss: 0.4336 - acc: 0.7980 - val_loss: 0.4593 - val_acc: 0.7955\n",
      "Epoch 12/25\n",
      "250/250 [==============================] - 305s 1s/step - loss: 0.4176 - acc: 0.8034 - val_loss: 0.5031 - val_acc: 0.7661\n",
      "Epoch 13/25\n",
      "250/250 [==============================] - 305s 1s/step - loss: 0.4103 - acc: 0.8084 - val_loss: 0.4762 - val_acc: 0.7809\n",
      "Epoch 14/25\n",
      "250/250 [==============================] - 305s 1s/step - loss: 0.4021 - acc: 0.8146 - val_loss: 0.4695 - val_acc: 0.7962\n",
      "Epoch 15/25\n",
      "250/250 [==============================] - 304s 1s/step - loss: 0.3922 - acc: 0.8223 - val_loss: 0.4497 - val_acc: 0.8056\n",
      "Epoch 16/25\n",
      "250/250 [==============================] - 303s 1s/step - loss: 0.3884 - acc: 0.8210 - val_loss: 0.4403 - val_acc: 0.7988\n",
      "Epoch 17/25\n",
      "250/250 [==============================] - 305s 1s/step - loss: 0.3852 - acc: 0.8254 - val_loss: 0.4432 - val_acc: 0.8031\n",
      "Epoch 18/25\n",
      "250/250 [==============================] - 304s 1s/step - loss: 0.3669 - acc: 0.8364 - val_loss: 0.4483 - val_acc: 0.8080\n",
      "Epoch 19/25\n",
      "250/250 [==============================] - 303s 1s/step - loss: 0.3661 - acc: 0.8320 - val_loss: 0.4447 - val_acc: 0.8081\n",
      "Epoch 20/25\n",
      "250/250 [==============================] - 302s 1s/step - loss: 0.3590 - acc: 0.8361 - val_loss: 0.4459 - val_acc: 0.8120\n",
      "Epoch 21/25\n",
      "250/250 [==============================] - 304s 1s/step - loss: 0.3463 - acc: 0.8469 - val_loss: 0.4955 - val_acc: 0.7924\n",
      "Epoch 22/25\n",
      "250/250 [==============================] - 303s 1s/step - loss: 0.3344 - acc: 0.8565 - val_loss: 0.4678 - val_acc: 0.7985\n",
      "Epoch 23/25\n",
      "250/250 [==============================] - 301s 1s/step - loss: 0.3402 - acc: 0.8521 - val_loss: 0.4735 - val_acc: 0.8061\n",
      "Epoch 24/25\n",
      "249/250 [============================>.] - ETA: 0s - loss: 0.3227 - acc: 0.8534"
     ]
    }
   ],
   "source": [
    "# part - 2 -- Fitting the CNN to the images\n",
    "from keras.preprocessing.image import ImageDataGenerator\n",
    "\n",
    "train_datagen= ImageDataGenerator(\n",
    "    rescale=1./255,\n",
    "    shear_range=0.2,\n",
    "    zoom_range=0.2,\n",
    "    horizontal_flip=True\n",
    ")\n",
    "test_datagen = ImageDataGenerator(rescale=1./255)\n",
    "\n",
    "training_set = train_datagen.flow_from_directory(\n",
    "    'dataset/training_set', # path/to/data/\n",
    "    target_size=(64, 64),\n",
    "    batch_size=32,\n",
    "    class_mode='binary'\n",
    ")\n",
    "test_set = test_datagen.flow_from_directory(\n",
    "    'dataset/test_set',\n",
    "    target_size=(64, 64),\n",
    "    batch_size=32,\n",
    "    class_mode='binary'\n",
    ")\n",
    "\n",
    "classifier.fit_generator(\n",
    "    training_set,\n",
    "    samples_per_epoch=8000,\n",
    "    nb_epoch=25,\n",
    "    validation_data=test_set,\n",
    "    nb_val_samples=2000\n",
    ")\n"
   ]
  },
  {
   "cell_type": "code",
   "execution_count": null,
   "metadata": {},
   "outputs": [],
   "source": []
  }
 ],
 "metadata": {
  "kernelspec": {
   "display_name": "Python 3",
   "language": "python",
   "name": "python3"
  },
  "language_info": {
   "codemirror_mode": {
    "name": "ipython",
    "version": 3
   },
   "file_extension": ".py",
   "mimetype": "text/x-python",
   "name": "python",
   "nbconvert_exporter": "python",
   "pygments_lexer": "ipython3",
   "version": "3.6.8"
  }
 },
 "nbformat": 4,
 "nbformat_minor": 2
}
